{
  "metadata": {
    "kernelspec": {
      "language": "python",
      "display_name": "Python 3",
      "name": "python3"
    },
    "language_info": {
      "pygments_lexer": "ipython3",
      "nbconvert_exporter": "python",
      "version": "3.6.4",
      "file_extension": ".py",
      "codemirror_mode": {
        "name": "ipython",
        "version": 3
      },
      "name": "python",
      "mimetype": "text/x-python"
    },
    "colab": {
      "provenance": []
    }
  },
  "nbformat_minor": 0,
  "nbformat": 4,
  "cells": [
    {
      "cell_type": "code",
      "source": [
        "import numpy as np\n",
        "import torchvision.transforms as transforms\n",
        "from torch.utils.data import DataLoader\n",
        "from torchvision import datasets\n",
        "from torch.autograd import Variable \n",
        "import torch.nn as nn\n",
        "import torch.nn.functional as F\n",
        "import torch"
      ],
      "metadata": {
        "execution": {
          "iopub.status.busy": "2021-06-14T10:50:34.76768Z",
          "iopub.execute_input": "2021-06-14T10:50:34.768033Z",
          "iopub.status.idle": "2021-06-14T10:50:34.77236Z",
          "shell.execute_reply.started": "2021-06-14T10:50:34.767977Z",
          "shell.execute_reply": "2021-06-14T10:50:34.771544Z"
        },
        "trusted": true,
        "id": "-vAaL7PIGrku"
      },
      "execution_count": null,
      "outputs": []
    },
    {
      "cell_type": "code",
      "source": [
        "channels = 1 \n",
        "img_size = 28 \n",
        "img_shape = (channels, img_size, img_size) "
      ],
      "metadata": {
        "execution": {
          "iopub.status.busy": "2021-06-14T10:50:34.773847Z",
          "iopub.execute_input": "2021-06-14T10:50:34.774404Z",
          "iopub.status.idle": "2021-06-14T10:50:34.788265Z",
          "shell.execute_reply.started": "2021-06-14T10:50:34.774368Z",
          "shell.execute_reply": "2021-06-14T10:50:34.787202Z"
        },
        "trusted": true,
        "id": "FuASiICPGrkw"
      },
      "execution_count": null,
      "outputs": []
    },
    {
      "cell_type": "code",
      "source": [
        "latent_dim = 100 "
      ],
      "metadata": {
        "execution": {
          "iopub.status.busy": "2021-06-14T10:50:34.790093Z",
          "iopub.execute_input": "2021-06-14T10:50:34.790628Z",
          "iopub.status.idle": "2021-06-14T10:50:34.796599Z",
          "shell.execute_reply.started": "2021-06-14T10:50:34.790593Z",
          "shell.execute_reply": "2021-06-14T10:50:34.795814Z"
        },
        "trusted": true,
        "id": "FjT0IW7qGrkx"
      },
      "execution_count": null,
      "outputs": []
    },
    {
      "cell_type": "code",
      "source": [
        "cuda = True if torch.cuda.is_available() else False "
      ],
      "metadata": {
        "execution": {
          "iopub.status.busy": "2021-06-14T10:50:34.798194Z",
          "iopub.execute_input": "2021-06-14T10:50:34.798723Z",
          "iopub.status.idle": "2021-06-14T10:50:34.804645Z",
          "shell.execute_reply.started": "2021-06-14T10:50:34.798688Z",
          "shell.execute_reply": "2021-06-14T10:50:34.803778Z"
        },
        "trusted": true,
        "id": "CQUAvDWUGrky"
      },
      "execution_count": null,
      "outputs": []
    },
    {
      "cell_type": "code",
      "source": [
        "class Generator(nn.Module):\n",
        "    def __init__(self):\n",
        "        super(Generator, self).__init__()\n",
        "        \n",
        "        def block(input_features, output_features, normalize=True):\n",
        "            layers = [nn.Linear(input_features, output_features)]\n",
        "            if normalize: \n",
        "                layers.append(nn.BatchNorm1d(output_features, 0.8))\n",
        "            layers.append(nn.LeakyReLU(0.2, inplace=True)) \n",
        "            return layers \n",
        "        \n",
        "        self.model = nn.Sequential(\n",
        "            *block(latent_dim, 128, normalize=False), \n",
        "            *block(128, 256),\n",
        "            *block(256, 512),\n",
        "            *block(512, 1024),\n",
        "            nn.Linear(1024, int(np.prod(img_shape))), \n",
        "            nn.Tanh() \n",
        "        )\n",
        "\n",
        "    def forward(self, z): \n",
        "        img = self.model(z) \n",
        "        img = img.view(img.size(0), *img_shape) \n",
        "        return img"
      ],
      "metadata": {
        "execution": {
          "iopub.status.busy": "2021-06-14T10:50:34.805865Z",
          "iopub.execute_input": "2021-06-14T10:50:34.806527Z",
          "iopub.status.idle": "2021-06-14T10:50:34.815557Z",
          "shell.execute_reply.started": "2021-06-14T10:50:34.806487Z",
          "shell.execute_reply": "2021-06-14T10:50:34.814682Z"
        },
        "trusted": true,
        "id": "GZcANgi_Grky"
      },
      "execution_count": null,
      "outputs": []
    },
    {
      "cell_type": "code",
      "source": [
        "class Discriminator(nn.Module):\n",
        "    def __init__(self):\n",
        "        super(Discriminator, self).__init__()\n",
        "        \n",
        "        self.model = nn.Sequential(\n",
        "            nn.Linear(int(np.prod(img_shape)), 512), \n",
        "            nn.LeakyReLU(0.2, inplace=True),\n",
        "            nn.Linear(512, 256),\n",
        "            nn.LeakyReLU(0.2, inplace=True),\n",
        "            nn.Linear(256, 1),\n",
        "            nn.Sigmoid() \n",
        "        )\n",
        "    \n",
        "    def forward(self, img):\n",
        "        img_flat = img.view(img.size(0), -1) \n",
        "        validity = self.model(img_flat) \n",
        "        return validity"
      ],
      "metadata": {
        "execution": {
          "iopub.status.busy": "2021-06-14T10:50:34.816699Z",
          "iopub.execute_input": "2021-06-14T10:50:34.817229Z",
          "iopub.status.idle": "2021-06-14T10:50:34.827165Z",
          "shell.execute_reply.started": "2021-06-14T10:50:34.817193Z",
          "shell.execute_reply": "2021-06-14T10:50:34.826386Z"
        },
        "trusted": true,
        "id": "hrk1KyvjGrk0"
      },
      "execution_count": null,
      "outputs": []
    },
    {
      "cell_type": "code",
      "source": [
        "adversarial_loss = torch.nn.BCELoss()"
      ],
      "metadata": {
        "execution": {
          "iopub.status.busy": "2021-06-14T10:50:34.828951Z",
          "iopub.execute_input": "2021-06-14T10:50:34.829434Z",
          "iopub.status.idle": "2021-06-14T10:50:34.835586Z",
          "shell.execute_reply.started": "2021-06-14T10:50:34.829386Z",
          "shell.execute_reply": "2021-06-14T10:50:34.834774Z"
        },
        "trusted": true,
        "id": "C7XIhTfDGrk1"
      },
      "execution_count": null,
      "outputs": []
    },
    {
      "cell_type": "code",
      "source": [
        "generator = Generator()\n",
        "discriminator = Discriminator()"
      ],
      "metadata": {
        "execution": {
          "iopub.status.busy": "2021-06-14T10:50:34.836861Z",
          "iopub.execute_input": "2021-06-14T10:50:34.837363Z",
          "iopub.status.idle": "2021-06-14T10:50:34.859032Z",
          "shell.execute_reply.started": "2021-06-14T10:50:34.837328Z",
          "shell.execute_reply": "2021-06-14T10:50:34.858281Z"
        },
        "trusted": true,
        "id": "xw1daz28Grk2"
      },
      "execution_count": null,
      "outputs": []
    },
    {
      "cell_type": "code",
      "source": [
        "generator"
      ],
      "metadata": {
        "execution": {
          "iopub.status.busy": "2021-06-14T10:50:34.886297Z",
          "iopub.execute_input": "2021-06-14T10:50:34.886576Z",
          "iopub.status.idle": "2021-06-14T10:50:34.891267Z",
          "shell.execute_reply.started": "2021-06-14T10:50:34.886549Z",
          "shell.execute_reply": "2021-06-14T10:50:34.890476Z"
        },
        "trusted": true,
        "id": "Uhe0KBknGrk2"
      },
      "execution_count": null,
      "outputs": []
    },
    {
      "cell_type": "code",
      "source": [
        "discriminator"
      ],
      "metadata": {
        "execution": {
          "iopub.status.busy": "2021-06-14T10:50:34.892636Z",
          "iopub.execute_input": "2021-06-14T10:50:34.893125Z",
          "iopub.status.idle": "2021-06-14T10:50:34.90318Z",
          "shell.execute_reply.started": "2021-06-14T10:50:34.893087Z",
          "shell.execute_reply": "2021-06-14T10:50:34.902238Z"
        },
        "trusted": true,
        "id": "U0ilignjGrk2"
      },
      "execution_count": null,
      "outputs": []
    },
    {
      "cell_type": "code",
      "source": [
        "if cuda:\n",
        "    generator.cuda()\n",
        "    discriminator.cuda()\n",
        "    adversarial_loss.cuda()"
      ],
      "metadata": {
        "execution": {
          "iopub.status.busy": "2021-06-14T10:50:34.905118Z",
          "iopub.execute_input": "2021-06-14T10:50:34.905472Z",
          "iopub.status.idle": "2021-06-14T10:50:34.914864Z",
          "shell.execute_reply.started": "2021-06-14T10:50:34.905437Z",
          "shell.execute_reply": "2021-06-14T10:50:34.9141Z"
        },
        "trusted": true,
        "id": "BCO5IVXwGrk3"
      },
      "execution_count": null,
      "outputs": []
    },
    {
      "cell_type": "code",
      "source": [
        "import pandas as pd\n",
        "from torch.utils.data import Dataset"
      ],
      "metadata": {
        "execution": {
          "iopub.status.busy": "2021-06-14T10:50:34.91638Z",
          "iopub.execute_input": "2021-06-14T10:50:34.916804Z",
          "iopub.status.idle": "2021-06-14T10:50:34.920599Z",
          "shell.execute_reply.started": "2021-06-14T10:50:34.916768Z",
          "shell.execute_reply": "2021-06-14T10:50:34.919595Z"
        },
        "trusted": true,
        "id": "eh9q90E5Grk3"
      },
      "execution_count": null,
      "outputs": []
    },
    {
      "cell_type": "code",
      "source": [
        "class DatasetMNIST(Dataset): \n",
        "    \n",
        "    def __init__(self, file_path, transform=None):\n",
        "        self.data = pd.read_csv(file_path)\n",
        "        self.transform = transform\n",
        "        \n",
        "    def __len__(self):\n",
        "        return len(self.data)\n",
        "    \n",
        "    def __getitem__(self, index):\n",
        "           \n",
        "        image = self.data.iloc[index, 1:].values.astype(np.uint8).reshape((28,28,1))\n",
        "        label = self.data.iloc[index, 0]\n",
        "        if self.transform is not None:\n",
        "            image = self.transform(image)\n",
        "        \n",
        "        return image, label\n",
        "        "
      ],
      "metadata": {
        "execution": {
          "iopub.status.busy": "2021-06-14T10:50:34.921906Z",
          "iopub.execute_input": "2021-06-14T10:50:34.92255Z",
          "iopub.status.idle": "2021-06-14T10:50:34.930557Z",
          "shell.execute_reply.started": "2021-06-14T10:50:34.922514Z",
          "shell.execute_reply": "2021-06-14T10:50:34.929587Z"
        },
        "trusted": true,
        "id": "Yk8sVH0iGrk3"
      },
      "execution_count": null,
      "outputs": []
    },
    {
      "cell_type": "code",
      "source": [
        "train = pd.read_csv('../input/digit-recognizer/train.csv')"
      ],
      "metadata": {
        "execution": {
          "iopub.status.busy": "2021-06-14T10:50:34.93256Z",
          "iopub.execute_input": "2021-06-14T10:50:34.932851Z",
          "iopub.status.idle": "2021-06-14T10:50:36.994937Z",
          "shell.execute_reply.started": "2021-06-14T10:50:34.932828Z",
          "shell.execute_reply": "2021-06-14T10:50:36.994019Z"
        },
        "trusted": true,
        "id": "TmHYgLgOGrk4"
      },
      "execution_count": null,
      "outputs": []
    },
    {
      "cell_type": "code",
      "source": [
        "train"
      ],
      "metadata": {
        "execution": {
          "iopub.status.busy": "2021-06-14T10:50:36.996837Z",
          "iopub.execute_input": "2021-06-14T10:50:36.997203Z",
          "iopub.status.idle": "2021-06-14T10:50:37.020487Z",
          "shell.execute_reply.started": "2021-06-14T10:50:36.997167Z",
          "shell.execute_reply": "2021-06-14T10:50:37.019591Z"
        },
        "trusted": true,
        "id": "VW9M9pJoGrk4"
      },
      "execution_count": null,
      "outputs": []
    },
    {
      "cell_type": "code",
      "source": [
        "for index in range(1, 6): # N : 5 (Number of Image)\n",
        "    temp_image = train.iloc[index, 1:].values.astype(np.uint8).reshape((28,28,1))\n",
        "    temp_label = train.iloc[index, 0]\n",
        "    print('Shape of Image : ',temp_image.shape)\n",
        "    print('label : ', temp_label)"
      ],
      "metadata": {
        "execution": {
          "iopub.status.busy": "2021-06-14T10:50:37.022398Z",
          "iopub.execute_input": "2021-06-14T10:50:37.022871Z",
          "iopub.status.idle": "2021-06-14T10:50:37.034133Z",
          "shell.execute_reply.started": "2021-06-14T10:50:37.022833Z",
          "shell.execute_reply": "2021-06-14T10:50:37.033102Z"
        },
        "trusted": true,
        "id": "jRubZkS2Grk4"
      },
      "execution_count": null,
      "outputs": []
    },
    {
      "cell_type": "code",
      "source": [
        "dataset = DatasetMNIST(file_path='../input/digit-recognizer/train.csv', \n",
        "                       transform=transforms.Compose(\n",
        "                           [transforms.ToTensor(), # ToTensor() : np.array (H, W, C) -> tensor (C, H, W)\n",
        "                            transforms.Normalize([0.5],[0.5])]\n",
        "                       ))"
      ],
      "metadata": {
        "execution": {
          "iopub.status.busy": "2021-06-14T10:50:37.035407Z",
          "iopub.execute_input": "2021-06-14T10:50:37.035949Z",
          "iopub.status.idle": "2021-06-14T10:50:39.07861Z",
          "shell.execute_reply.started": "2021-06-14T10:50:37.035911Z",
          "shell.execute_reply": "2021-06-14T10:50:39.07775Z"
        },
        "trusted": true,
        "id": "flRSEDPWGrk5"
      },
      "execution_count": null,
      "outputs": []
    },
    {
      "cell_type": "code",
      "source": [
        "temp_img, _ =  dataset.__getitem__(0) "
      ],
      "metadata": {
        "execution": {
          "iopub.status.busy": "2021-06-14T10:50:39.079994Z",
          "iopub.execute_input": "2021-06-14T10:50:39.080362Z",
          "iopub.status.idle": "2021-06-14T10:50:39.086367Z",
          "shell.execute_reply.started": "2021-06-14T10:50:39.080327Z",
          "shell.execute_reply": "2021-06-14T10:50:39.085357Z"
        },
        "trusted": true,
        "id": "MQbcbVKcGrk5"
      },
      "execution_count": null,
      "outputs": []
    },
    {
      "cell_type": "code",
      "source": [
        "temp_img.size() "
      ],
      "metadata": {
        "execution": {
          "iopub.status.busy": "2021-06-14T10:50:39.087809Z",
          "iopub.execute_input": "2021-06-14T10:50:39.088186Z",
          "iopub.status.idle": "2021-06-14T10:50:39.097456Z",
          "shell.execute_reply.started": "2021-06-14T10:50:39.088149Z",
          "shell.execute_reply": "2021-06-14T10:50:39.096688Z"
        },
        "trusted": true,
        "id": "ntx53_27Grk5"
      },
      "execution_count": null,
      "outputs": []
    },
    {
      "cell_type": "code",
      "source": [
        "temp_img.max(), temp_img.min() "
      ],
      "metadata": {
        "execution": {
          "iopub.status.busy": "2021-06-14T10:50:39.100318Z",
          "iopub.execute_input": "2021-06-14T10:50:39.10078Z",
          "iopub.status.idle": "2021-06-14T10:50:39.108142Z",
          "shell.execute_reply.started": "2021-06-14T10:50:39.100745Z",
          "shell.execute_reply": "2021-06-14T10:50:39.107177Z"
        },
        "trusted": true,
        "id": "h2r_5bGMGrk5"
      },
      "execution_count": null,
      "outputs": []
    },
    {
      "cell_type": "code",
      "source": [
        "batch_size = 64 \n",
        "dataloader = DataLoader( \n",
        "    dataset,\n",
        "    batch_size=batch_size,\n",
        "    shuffle=True\n",
        ")"
      ],
      "metadata": {
        "execution": {
          "iopub.status.busy": "2021-06-14T10:50:39.110159Z",
          "iopub.execute_input": "2021-06-14T10:50:39.110764Z",
          "iopub.status.idle": "2021-06-14T10:50:39.115037Z",
          "shell.execute_reply.started": "2021-06-14T10:50:39.110729Z",
          "shell.execute_reply": "2021-06-14T10:50:39.114161Z"
        },
        "trusted": true,
        "id": "ZBtYFSxIGrk5"
      },
      "execution_count": null,
      "outputs": []
    },
    {
      "cell_type": "code",
      "source": [
        "temp_images, _ = iter(dataloader).next() \n",
        "print('images shape on batch size = {}'.format(temp_images.size()))"
      ],
      "metadata": {
        "execution": {
          "iopub.status.busy": "2021-06-14T10:50:39.117349Z",
          "iopub.execute_input": "2021-06-14T10:50:39.117603Z",
          "iopub.status.idle": "2021-06-14T10:50:39.15492Z",
          "shell.execute_reply.started": "2021-06-14T10:50:39.11758Z",
          "shell.execute_reply": "2021-06-14T10:50:39.154014Z"
        },
        "trusted": true,
        "id": "B6AjS24uGrk6"
      },
      "execution_count": null,
      "outputs": []
    },
    {
      "cell_type": "code",
      "source": [
        "b1 = 0.5\n",
        "b2 = 0.999\n",
        "lr = 0.0002 "
      ],
      "metadata": {
        "execution": {
          "iopub.status.busy": "2021-06-14T10:50:39.156222Z",
          "iopub.execute_input": "2021-06-14T10:50:39.156569Z",
          "iopub.status.idle": "2021-06-14T10:50:39.160513Z",
          "shell.execute_reply.started": "2021-06-14T10:50:39.156536Z",
          "shell.execute_reply": "2021-06-14T10:50:39.159494Z"
        },
        "trusted": true,
        "id": "pAKSwkB1Grk6"
      },
      "execution_count": null,
      "outputs": []
    },
    {
      "cell_type": "code",
      "source": [
        "optimizer_G = torch.optim.Adam(generator.parameters(), lr=lr, betas=(b1,b2))\n",
        "optimizer_D = torch.optim.Adam(discriminator.parameters(), lr=lr, betas=(b1,b2))"
      ],
      "metadata": {
        "execution": {
          "iopub.status.busy": "2021-06-14T10:50:39.161881Z",
          "iopub.execute_input": "2021-06-14T10:50:39.162444Z",
          "iopub.status.idle": "2021-06-14T10:50:39.169676Z",
          "shell.execute_reply.started": "2021-06-14T10:50:39.162408Z",
          "shell.execute_reply": "2021-06-14T10:50:39.168886Z"
        },
        "trusted": true,
        "id": "h-WfkWgJGrk6"
      },
      "execution_count": null,
      "outputs": []
    },
    {
      "cell_type": "code",
      "source": [
        "Tensor = torch.cuda.FloatTensor if cuda else torch.FloatTensor"
      ],
      "metadata": {
        "execution": {
          "iopub.status.busy": "2021-06-14T10:50:39.171099Z",
          "iopub.execute_input": "2021-06-14T10:50:39.171479Z",
          "iopub.status.idle": "2021-06-14T10:50:39.177558Z",
          "shell.execute_reply.started": "2021-06-14T10:50:39.171443Z",
          "shell.execute_reply": "2021-06-14T10:50:39.176707Z"
        },
        "trusted": true,
        "id": "0l3HIUQBGrk7"
      },
      "execution_count": null,
      "outputs": []
    },
    {
      "cell_type": "code",
      "source": [
        "from tqdm.notebook import tqdm"
      ],
      "metadata": {
        "execution": {
          "iopub.status.busy": "2021-06-14T10:50:39.179858Z",
          "iopub.execute_input": "2021-06-14T10:50:39.180514Z",
          "iopub.status.idle": "2021-06-14T10:50:39.184925Z",
          "shell.execute_reply.started": "2021-06-14T10:50:39.180476Z",
          "shell.execute_reply": "2021-06-14T10:50:39.18414Z"
        },
        "trusted": true,
        "id": "TlCfKjD7Grk7"
      },
      "execution_count": null,
      "outputs": []
    },
    {
      "cell_type": "code",
      "source": [
        "import matplotlib.pyplot as plt"
      ],
      "metadata": {
        "execution": {
          "iopub.status.busy": "2021-06-14T10:50:39.186174Z",
          "iopub.execute_input": "2021-06-14T10:50:39.186528Z",
          "iopub.status.idle": "2021-06-14T10:50:39.194501Z",
          "shell.execute_reply.started": "2021-06-14T10:50:39.186495Z",
          "shell.execute_reply": "2021-06-14T10:50:39.193636Z"
        },
        "trusted": true,
        "id": "Azv_tkDUGrk7"
      },
      "execution_count": null,
      "outputs": []
    },
    {
      "cell_type": "code",
      "source": [
        "n_epochs = 10 \n",
        "for epoch in range(n_epochs):\n",
        "    for i, (imgs, _) in enumerate(tqdm(dataloader)): \n",
        "        \n",
        "        \n",
        "        valid = Variable(Tensor(imgs.size(0), 1).fill_(1.0), requires_grad=False) \n",
        "        fake = Variable(Tensor(imgs.size(0), 1).fill_(0.0), requires_grad=False) \n",
        "                                                                                \n",
        "        \n",
        "        real_imgs = imgs.type(Tensor) \n",
        "     \n",
        "        optimizer_G.zero_grad()\n",
        "        \n",
        "        z = Tensor(np.random.normal(0, 1, (imgs.shape[0],latent_dim))) \n",
        "   \n",
        "        \n",
        "        gen_imgs = generator(z)\n",
        "        g_loss = adversarial_loss(discriminator(gen_imgs), valid)\n",
        "        g_loss.backward()\n",
        "        optimizer_G.step()\n",
        "        optimizer_D.zero_grad()\n",
        "        real_loss = adversarial_loss(discriminator(real_imgs), valid) \n",
        "        fake_loss = adversarial_loss(discriminator(gen_imgs.detach()), fake) \n",
        "        d_loss = (real_loss + fake_loss) / 2\n",
        "        d_loss.backward()\n",
        "        optimizer_D.step()\n",
        "        sample_z_in_train = Tensor(np.random.normal(0, 1, (imgs.shape[0],latent_dim)))\n",
        "     \n",
        "        sample_gen_imgs_in_train = generator(sample_z_in_train).detach().cpu()\n",
        "        if ((i+1) % 200) == 0: \n",
        "            nrow=1\n",
        "            ncols=5\n",
        "            fig, axes = plt.subplots(nrows=nrow,ncols=ncols, figsize=(8,2))\n",
        "            plt.suptitle('EPOCH : {} | BATCH(ITERATION) : {}'.format(epoch+1, i+1))\n",
        "            for ncol in range(ncols):\n",
        "                axes[ncol].imshow(sample_gen_imgs_in_train.permute(0,2,3,1)[ncol], cmap='gray')\n",
        "                axes[ncol].axis('off')\n",
        "            plt.show()\n",
        "    print(\n",
        "        \"[Epoch: %d/%d] [Batch: %d/%d] [D loss: %f] [G loss: %f]\"\n",
        "        % (epoch+1, n_epochs, i+1, len(dataloader), d_loss.item(), g_loss.item())\n",
        "    )"
      ],
      "metadata": {
        "execution": {
          "iopub.status.busy": "2021-06-14T10:50:39.195625Z",
          "iopub.execute_input": "2021-06-14T10:50:39.195969Z",
          "iopub.status.idle": "2021-06-14T10:54:35.544896Z",
          "shell.execute_reply.started": "2021-06-14T10:50:39.195934Z",
          "shell.execute_reply": "2021-06-14T10:54:35.543959Z"
        },
        "trusted": true,
        "id": "5nMPckV4Grk7"
      },
      "execution_count": null,
      "outputs": []
    },
    {
      "cell_type": "code",
      "source": [
        "count = 1\n",
        "for i, (imgs,label) in enumerate(dataloader):\n",
        "    print('Shape of Batch Images : \\n', imgs.shape)\n",
        "    print('Labels (1~64) : \\n', label)\n",
        "    print('-'*100)\n",
        "    if count == 5:\n",
        "        break\n",
        "    else:\n",
        "        count += 1"
      ],
      "metadata": {
        "execution": {
          "iopub.status.busy": "2021-06-14T10:54:35.546274Z",
          "iopub.execute_input": "2021-06-14T10:54:35.546621Z",
          "iopub.status.idle": "2021-06-14T10:54:35.681445Z",
          "shell.execute_reply.started": "2021-06-14T10:54:35.546582Z",
          "shell.execute_reply": "2021-06-14T10:54:35.680691Z"
        },
        "trusted": true,
        "id": "EDE0qs_HGrk8"
      },
      "execution_count": null,
      "outputs": []
    },
    {
      "cell_type": "code",
      "source": [
        "Tensor(10,1) "
      ],
      "metadata": {
        "execution": {
          "iopub.status.busy": "2021-06-14T10:54:35.682509Z",
          "iopub.execute_input": "2021-06-14T10:54:35.682821Z",
          "iopub.status.idle": "2021-06-14T10:54:35.689962Z",
          "shell.execute_reply.started": "2021-06-14T10:54:35.682797Z",
          "shell.execute_reply": "2021-06-14T10:54:35.68905Z"
        },
        "trusted": true,
        "id": "4bL_GVS1Grk8"
      },
      "execution_count": null,
      "outputs": []
    },
    {
      "cell_type": "code",
      "source": [
        "Tensor(10,1).fill_(1.0) "
      ],
      "metadata": {
        "execution": {
          "iopub.status.busy": "2021-06-14T10:54:35.691452Z",
          "iopub.execute_input": "2021-06-14T10:54:35.692085Z",
          "iopub.status.idle": "2021-06-14T10:54:35.701471Z",
          "shell.execute_reply.started": "2021-06-14T10:54:35.691997Z",
          "shell.execute_reply": "2021-06-14T10:54:35.700383Z"
        },
        "trusted": true,
        "id": "AVwnsHxqGrk8"
      },
      "execution_count": null,
      "outputs": []
    },
    {
      "cell_type": "code",
      "source": [
        "sample_img = iter(dataloader).next()[0]"
      ],
      "metadata": {
        "execution": {
          "iopub.status.busy": "2021-06-14T10:54:35.70293Z",
          "iopub.execute_input": "2021-06-14T10:54:35.703379Z",
          "iopub.status.idle": "2021-06-14T10:54:35.736498Z",
          "shell.execute_reply.started": "2021-06-14T10:54:35.703346Z",
          "shell.execute_reply": "2021-06-14T10:54:35.73574Z"
        },
        "trusted": true,
        "id": "quKombkKGrk9"
      },
      "execution_count": null,
      "outputs": []
    },
    {
      "cell_type": "code",
      "source": [
        "sample_img.shape, sample_img.dtype"
      ],
      "metadata": {
        "execution": {
          "iopub.status.busy": "2021-06-14T10:54:35.737628Z",
          "iopub.execute_input": "2021-06-14T10:54:35.737966Z",
          "iopub.status.idle": "2021-06-14T10:54:35.743143Z",
          "shell.execute_reply.started": "2021-06-14T10:54:35.737932Z",
          "shell.execute_reply": "2021-06-14T10:54:35.742219Z"
        },
        "trusted": true,
        "id": "nlFDE_0XGrk9"
      },
      "execution_count": null,
      "outputs": []
    },
    {
      "cell_type": "code",
      "source": [
        "sample_img.requires_grad "
      ],
      "metadata": {
        "execution": {
          "iopub.status.busy": "2021-06-14T10:54:35.744448Z",
          "iopub.execute_input": "2021-06-14T10:54:35.744975Z",
          "iopub.status.idle": "2021-06-14T10:54:35.753021Z",
          "shell.execute_reply.started": "2021-06-14T10:54:35.744923Z",
          "shell.execute_reply": "2021-06-14T10:54:35.752194Z"
        },
        "trusted": true,
        "id": "IcmoBYQoGrk9"
      },
      "execution_count": null,
      "outputs": []
    },
    {
      "cell_type": "code",
      "source": [
        "Variable(sample_img).requires_grad "
      ],
      "metadata": {
        "execution": {
          "iopub.status.busy": "2021-06-14T10:54:35.756849Z",
          "iopub.execute_input": "2021-06-14T10:54:35.757175Z",
          "iopub.status.idle": "2021-06-14T10:54:35.765666Z",
          "shell.execute_reply.started": "2021-06-14T10:54:35.757151Z",
          "shell.execute_reply": "2021-06-14T10:54:35.764839Z"
        },
        "trusted": true,
        "id": "yNbBRXpEGrk9"
      },
      "execution_count": null,
      "outputs": []
    },
    {
      "cell_type": "code",
      "source": [
        "sample_img.requires_grad_(True) "
      ],
      "metadata": {
        "execution": {
          "iopub.status.busy": "2021-06-14T10:54:35.768322Z",
          "iopub.execute_input": "2021-06-14T10:54:35.768577Z",
          "iopub.status.idle": "2021-06-14T10:54:35.783061Z",
          "shell.execute_reply.started": "2021-06-14T10:54:35.768555Z",
          "shell.execute_reply": "2021-06-14T10:54:35.782185Z"
        },
        "trusted": true,
        "id": "d2f-cDpsGrk9"
      },
      "execution_count": null,
      "outputs": []
    },
    {
      "cell_type": "code",
      "source": [
        "sample_img.requires_grad "
      ],
      "metadata": {
        "execution": {
          "iopub.status.busy": "2021-06-14T10:54:35.784232Z",
          "iopub.execute_input": "2021-06-14T10:54:35.784571Z",
          "iopub.status.idle": "2021-06-14T10:54:35.789985Z",
          "shell.execute_reply.started": "2021-06-14T10:54:35.784539Z",
          "shell.execute_reply": "2021-06-14T10:54:35.789085Z"
        },
        "trusted": true,
        "id": "X4S7yvFfGrk9"
      },
      "execution_count": null,
      "outputs": []
    },
    {
      "cell_type": "code",
      "source": [
        "np.random.normal(0,1,(64,100))"
      ],
      "metadata": {
        "execution": {
          "iopub.status.busy": "2021-06-14T10:54:35.791642Z",
          "iopub.execute_input": "2021-06-14T10:54:35.792066Z",
          "iopub.status.idle": "2021-06-14T10:54:35.801242Z",
          "shell.execute_reply.started": "2021-06-14T10:54:35.79203Z",
          "shell.execute_reply": "2021-06-14T10:54:35.800101Z"
        },
        "trusted": true,
        "id": "YoDVFeMfGrk-"
      },
      "execution_count": null,
      "outputs": []
    },
    {
      "cell_type": "code",
      "source": [
        "np.random.normal(0,1,(64,100)).shape"
      ],
      "metadata": {
        "execution": {
          "iopub.status.busy": "2021-06-14T10:54:35.802722Z",
          "iopub.execute_input": "2021-06-14T10:54:35.803098Z",
          "iopub.status.idle": "2021-06-14T10:54:35.809601Z",
          "shell.execute_reply.started": "2021-06-14T10:54:35.803063Z",
          "shell.execute_reply": "2021-06-14T10:54:35.808595Z"
        },
        "trusted": true,
        "id": "pU9v42NPGrk-"
      },
      "execution_count": null,
      "outputs": []
    },
    {
      "cell_type": "code",
      "source": [
        "sample_z = Tensor(np.random.normal(0, 1, (64,100)))\n",
        "sample_z.shape"
      ],
      "metadata": {
        "execution": {
          "iopub.status.busy": "2021-06-14T10:54:35.810964Z",
          "iopub.execute_input": "2021-06-14T10:54:35.811394Z",
          "iopub.status.idle": "2021-06-14T10:54:35.819164Z",
          "shell.execute_reply.started": "2021-06-14T10:54:35.811361Z",
          "shell.execute_reply": "2021-06-14T10:54:35.818108Z"
        },
        "trusted": true,
        "id": "d1coUKsMGrk-"
      },
      "execution_count": null,
      "outputs": []
    },
    {
      "cell_type": "code",
      "source": [
        "sample_gen_imgs = generator(sample_z)\n",
        "sample_gen_imgs.shape"
      ],
      "metadata": {
        "execution": {
          "iopub.status.busy": "2021-06-14T10:59:08.561768Z",
          "iopub.execute_input": "2021-06-14T10:59:08.562123Z",
          "iopub.status.idle": "2021-06-14T10:59:08.570948Z",
          "shell.execute_reply.started": "2021-06-14T10:59:08.562087Z",
          "shell.execute_reply": "2021-06-14T10:59:08.569963Z"
        },
        "trusted": true,
        "id": "9-rDnrKFGrk-"
      },
      "execution_count": null,
      "outputs": []
    },
    {
      "cell_type": "code",
      "source": [
        "sample_discrim_result = discriminator(sample_gen_imgs)\n",
        "sample_discrim_result.shape"
      ],
      "metadata": {
        "execution": {
          "iopub.status.busy": "2021-06-14T10:59:10.151223Z",
          "iopub.execute_input": "2021-06-14T10:59:10.151638Z",
          "iopub.status.idle": "2021-06-14T10:59:10.165493Z",
          "shell.execute_reply.started": "2021-06-14T10:59:10.151599Z",
          "shell.execute_reply": "2021-06-14T10:59:10.164637Z"
        },
        "trusted": true,
        "id": "Z0kv76acGrk_"
      },
      "execution_count": null,
      "outputs": []
    },
    {
      "cell_type": "code",
      "source": [
        "adversarial_loss"
      ],
      "metadata": {
        "execution": {
          "iopub.status.busy": "2021-06-14T10:59:11.160464Z",
          "iopub.execute_input": "2021-06-14T10:59:11.160803Z",
          "iopub.status.idle": "2021-06-14T10:59:11.168594Z",
          "shell.execute_reply.started": "2021-06-14T10:59:11.16077Z",
          "shell.execute_reply": "2021-06-14T10:59:11.16764Z"
        },
        "trusted": true,
        "id": "wE4UtkKmGrk_"
      },
      "execution_count": null,
      "outputs": []
    },
    {
      "cell_type": "code",
      "source": [
        "sample_valid.shape"
      ],
      "metadata": {
        "execution": {
          "iopub.status.busy": "2021-06-14T10:59:11.855568Z",
          "iopub.execute_input": "2021-06-14T10:59:11.855883Z",
          "iopub.status.idle": "2021-06-14T10:59:11.861036Z",
          "shell.execute_reply.started": "2021-06-14T10:59:11.855853Z",
          "shell.execute_reply": "2021-06-14T10:59:11.860212Z"
        },
        "trusted": true,
        "id": "oudkwXhpGrk_"
      },
      "execution_count": null,
      "outputs": []
    },
    {
      "cell_type": "code",
      "source": [
        "sample_valid = Tensor(64,1).fill_(1.0)\n",
        "sample_g_loss = adversarial_loss(sample_discrim_result, sample_valid)\n",
        "sample_g_loss"
      ],
      "metadata": {
        "execution": {
          "iopub.status.busy": "2021-06-14T10:59:12.126522Z",
          "iopub.execute_input": "2021-06-14T10:59:12.126815Z",
          "iopub.status.idle": "2021-06-14T10:59:12.136015Z",
          "shell.execute_reply.started": "2021-06-14T10:59:12.126787Z",
          "shell.execute_reply": "2021-06-14T10:59:12.135071Z"
        },
        "trusted": true,
        "id": "IvZd6ArQGrk_"
      },
      "execution_count": null,
      "outputs": []
    },
    {
      "cell_type": "code",
      "source": [
        "!pip install torchviz\n",
        "import torchviz"
      ],
      "metadata": {
        "execution": {
          "iopub.status.busy": "2021-06-14T10:59:15.994062Z",
          "iopub.execute_input": "2021-06-14T10:59:15.99441Z",
          "iopub.status.idle": "2021-06-14T10:59:24.942377Z",
          "shell.execute_reply.started": "2021-06-14T10:59:15.994378Z",
          "shell.execute_reply": "2021-06-14T10:59:24.941452Z"
        },
        "trusted": true,
        "id": "INFKh_v7Grk_"
      },
      "execution_count": null,
      "outputs": []
    },
    {
      "cell_type": "code",
      "source": [
        "X = torch.ones((28,28), dtype=torch.float32, requires_grad=True)\n",
        "square_X = X**2\n",
        "cubic_X = X**3\n",
        "\n",
        "result = (square_X+cubic_X).sum()\n",
        "\n",
        "torchviz.make_dot(result)\n"
      ],
      "metadata": {
        "execution": {
          "iopub.status.busy": "2021-06-14T10:59:24.943886Z",
          "iopub.execute_input": "2021-06-14T10:59:24.944264Z",
          "iopub.status.idle": "2021-06-14T10:59:25.319619Z",
          "shell.execute_reply.started": "2021-06-14T10:59:24.944228Z",
          "shell.execute_reply": "2021-06-14T10:59:25.318702Z"
        },
        "trusted": true,
        "id": "AsYGdGnaGrlA"
      },
      "execution_count": null,
      "outputs": []
    },
    {
      "cell_type": "code",
      "source": [
        "X = torch.ones((28,28), dtype=torch.float32, requires_grad=True)\n",
        "square_X = X**2\n",
        "cubic_X = X.detach()**3\n",
        "\n",
        "result = (square_X+cubic_X).sum()\n",
        "\n",
        "torchviz.make_dot(result)"
      ],
      "metadata": {
        "execution": {
          "iopub.status.busy": "2021-06-14T10:59:25.321652Z",
          "iopub.execute_input": "2021-06-14T10:59:25.322053Z",
          "iopub.status.idle": "2021-06-14T10:59:25.400807Z",
          "shell.execute_reply.started": "2021-06-14T10:59:25.321984Z",
          "shell.execute_reply": "2021-06-14T10:59:25.399929Z"
        },
        "trusted": true,
        "id": "cgY_YFK0GrlA"
      },
      "execution_count": null,
      "outputs": []
    }
  ]
}